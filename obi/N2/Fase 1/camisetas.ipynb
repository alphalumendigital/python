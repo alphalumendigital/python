{
 "cells": [
  {
   "cell_type": "markdown",
   "id": "25548276",
   "metadata": {},
   "source": []
  },
  {
   "cell_type": "code",
   "execution_count": null,
   "id": "8fa48187",
   "metadata": {},
   "outputs": [],
   "source": [
    "N = int(input())\n",
    "\n",
    "lista = list(map(int, input().split() ))\n",
    "        \n",
    "P = int(input())\n",
    "M = int(input())\n",
    "\n",
    "x1 = lista.count(1)\n",
    "x2 = lista.count(2)\n",
    "\n",
    "if P >= x1 and M >=x2:\n",
    "    print(\"S\")\n",
    "else:\n",
    "    print(\"N\")\n"
   ]
  },
  {
   "cell_type": "code",
   "execution_count": null,
   "id": "57a9d088",
   "metadata": {},
   "outputs": [],
   "source": [
    "lista = input()"
   ]
  },
  {
   "cell_type": "code",
   "execution_count": null,
   "id": "7a84daf1",
   "metadata": {},
   "outputs": [],
   "source": []
  },
  {
   "cell_type": "code",
   "execution_count": null,
   "id": "1957e176",
   "metadata": {},
   "outputs": [],
   "source": []
  }
 ],
 "metadata": {
  "kernelspec": {
   "display_name": "Python 3 (ipykernel)",
   "language": "python",
   "name": "python3"
  },
  "language_info": {
   "codemirror_mode": {
    "name": "ipython",
    "version": 3
   },
   "file_extension": ".py",
   "mimetype": "text/x-python",
   "name": "python",
   "nbconvert_exporter": "python",
   "pygments_lexer": "ipython3",
   "version": "3.9.7"
  }
 },
 "nbformat": 4,
 "nbformat_minor": 5
}
