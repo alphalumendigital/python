{
 "cells": [
  {
   "cell_type": "markdown",
   "id": "08126150",
   "metadata": {},
   "source": [
    "# **Tempo de resposta**"
   ]
  },
  {
   "cell_type": "markdown",
   "id": "b5282b25",
   "metadata": {},
   "source": [
    "https://olimpiada.ic.unicamp.br/pratique/p2/2021/f1/tempo/"
   ]
  },
  {
   "cell_type": "markdown",
   "id": "f1a11734",
   "metadata": {},
   "source": [
    "## Entrada"
   ]
  },
  {
   "cell_type": "code",
   "execution_count": 6,
   "id": "8db3eff5",
   "metadata": {},
   "outputs": [
    {
     "name": "stdout",
     "output_type": "stream",
     "text": [
      "5\n",
      "R 2\n",
      "R 3\n",
      "T 5\n",
      "E 2\n",
      "E 3\n",
      "[['R', 2], ['R', 3], ['T', 5], ['E', 2], ['E', 3]]\n"
     ]
    }
   ],
   "source": [
    "n = int(input())\n",
    "\n",
    "eventos = []\n",
    "\n",
    "if(n >= 1 and n <= 20):\n",
    "    for i in range(n):\n",
    "        c, x = input().split()\n",
    "        eventos.append([c, int(x)])\n",
    "    print(eventos)"
   ]
  },
  {
   "cell_type": "markdown",
   "id": "b7430bbc",
   "metadata": {},
   "source": [
    "## Processamento"
   ]
  },
  {
   "cell_type": "code",
   "execution_count": null,
   "id": "ef316dbc",
   "metadata": {},
   "outputs": [],
   "source": [
    "tempo = []\n",
    "for i in range(n):\n",
    "    linha = eventos[i]\n",
    "    if(linha[0] == 'R')\n",
    "        tempo[linha[1]]"
   ]
  }
 ],
 "metadata": {
  "kernelspec": {
   "display_name": "Python 3 (ipykernel)",
   "language": "python",
   "name": "python3"
  },
  "language_info": {
   "codemirror_mode": {
    "name": "ipython",
    "version": 3
   },
   "file_extension": ".py",
   "mimetype": "text/x-python",
   "name": "python",
   "nbconvert_exporter": "python",
   "pygments_lexer": "ipython3",
   "version": "3.9.7"
  }
 },
 "nbformat": 4,
 "nbformat_minor": 5
}
