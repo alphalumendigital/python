{
 "cells": [
  {
   "cell_type": "markdown",
   "id": "fced4fa1",
   "metadata": {},
   "source": [
    "# **Idade de Camila**"
   ]
  },
  {
   "cell_type": "markdown",
   "id": "5b4b3a21",
   "metadata": {},
   "source": [
    "https://olimpiada.ic.unicamp.br/pratique/p2/2021/f1/idade/"
   ]
  },
  {
   "cell_type": "markdown",
   "id": "3f670d2a",
   "metadata": {},
   "source": [
    "## Entrada"
   ]
  },
  {
   "cell_type": "code",
   "execution_count": 10,
   "id": "9788270a",
   "metadata": {},
   "outputs": [
    {
     "name": "stdout",
     "output_type": "stream",
     "text": [
      "91\n",
      "91\n",
      "91\n"
     ]
    }
   ],
   "source": [
    "# ler três linhas, três números\n",
    "\n",
    "n1 = int(input())\n",
    "n2 = int(input())\n",
    "n3 = int(input())\n"
   ]
  },
  {
   "cell_type": "markdown",
   "id": "ba8d7df2",
   "metadata": {},
   "source": [
    "## Processamento & Saída"
   ]
  },
  {
   "cell_type": "code",
   "execution_count": 11,
   "id": "79630d92",
   "metadata": {},
   "outputs": [
    {
     "name": "stdout",
     "output_type": "stream",
     "text": [
      "91\n"
     ]
    }
   ],
   "source": [
    "if(n1 >= 5 and n1 <= 100 and n2 >= 5 and n2 <= 100 and n3 >= 5 and n3 <= 100):\n",
    "    lista = [ n1, n2, n3 ]\n",
    "\n",
    "    lista.sort()\n",
    "\n",
    "    print(lista[1])"
   ]
  },
  {
   "cell_type": "code",
   "execution_count": null,
   "id": "9270a83e",
   "metadata": {},
   "outputs": [],
   "source": []
  }
 ],
 "metadata": {
  "kernelspec": {
   "display_name": "Python 3 (ipykernel)",
   "language": "python",
   "name": "python3"
  },
  "language_info": {
   "codemirror_mode": {
    "name": "ipython",
    "version": 3
   },
   "file_extension": ".py",
   "mimetype": "text/x-python",
   "name": "python",
   "nbconvert_exporter": "python",
   "pygments_lexer": "ipython3",
   "version": "3.9.7"
  }
 },
 "nbformat": 4,
 "nbformat_minor": 5
}
