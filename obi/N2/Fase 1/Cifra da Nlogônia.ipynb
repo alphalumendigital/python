{
 "cells": [
  {
   "cell_type": "markdown",
   "id": "c29cc333",
   "metadata": {},
   "source": [
    "# **Cifra da Nlogônia**"
   ]
  },
  {
   "cell_type": "markdown",
   "id": "38fe3596",
   "metadata": {},
   "source": [
    "https://olimpiada.ic.unicamp.br/pratique/p2/2021/f1/cifra/"
   ]
  },
  {
   "cell_type": "markdown",
   "id": "3ec61c6c",
   "metadata": {},
   "source": [
    "# Entrada"
   ]
  },
  {
   "cell_type": "code",
   "execution_count": 56,
   "id": "aa2e8b60",
   "metadata": {},
   "outputs": [
    {
     "name": "stdout",
     "output_type": "stream",
     "text": [
      "arteiro\n"
     ]
    }
   ],
   "source": [
    "#entrada: lendo a palavra\n",
    "p = input()\n",
    "\n",
    "#calculando o tamanho\n",
    "size = len(p)\n"
   ]
  },
  {
   "cell_type": "markdown",
   "id": "228e3876",
   "metadata": {},
   "source": [
    "# Processamento"
   ]
  },
  {
   "cell_type": "code",
   "execution_count": 57,
   "id": "118cee11",
   "metadata": {},
   "outputs": [
    {
     "name": "stdout",
     "output_type": "stream",
     "text": [
      "arteiro\n"
     ]
    }
   ],
   "source": [
    "alfabeto = \"abcdefghijklmnopqrstuvxz\"\n",
    "vogais = \"aeiou\"\n",
    "\n",
    "saida = ''\n",
    "\n",
    "# realizando o processamento\n",
    "for x in range(size):\n",
    "    #se for vogal é ela mesma e vai para a próxima letra\n",
    "    if(vogais.find(p[x]) >= 0):\n",
    "        saida = saida + p[x]\n",
    "        continue\n",
    "        \n",
    "    # é consoante então tem que incluir ele\n",
    "    saida = saida + p[x]\n",
    "    \n",
    "    #localiza a consoante no alfabeto\n",
    "    index = alfabeto.find(p[x])\n",
    "    \n",
    "    #localiza a vogal mais próxima\n",
    "    i=index\n",
    "    j=index\n",
    "    \n",
    "    volta = False\n",
    "    while(i > 0):\n",
    "        i -= 1\n",
    "        #se for consoante busca o anterior\n",
    "        if(vogais.find(alfabeto[i]) >= 0):\n",
    "            volta = True\n",
    "            break;\n",
    "            \n",
    "    frente = False\n",
    "    while(j < len(alfabeto)-1):\n",
    "        j += 1\n",
    "        #se for consoante busca a próxima letra\n",
    "        if(vogais.find(alfabeto[j]) >= 0):\n",
    "            frente = True\n",
    "            break;\n",
    "           \n",
    "    #verifica se encontrou alguma vogal tanto na volta como na frente\n",
    "    if(volta and frente):\n",
    "        #verifica qual é a menor distância\n",
    "        if(index -i <= j - index):\n",
    "            #menor é a volta\n",
    "            saida = saida + alfabeto[i]\n",
    "        else:\n",
    "            #menor a a frente\n",
    "            saida = saida + alfabeto[j]\n",
    "            \n",
    "    #só encontrou vogal na volta\n",
    "    elif(volta):\n",
    "        saida = saida + alfabeto[i]\n",
    "        \n",
    "    #só encontrou vogal na frente\n",
    "    elif(frente):\n",
    "        saida = saida + alfabeto[j]\n",
    "\n",
    "    #localiza a consoante mais próxima\n",
    "    k=index\n",
    "    while(k < len(alfabeto)-1):\n",
    "        k += 1\n",
    "        #se for consoante busca a próxima letra\n",
    "        if(vogais.find(alfabeto[k]) < 0):\n",
    "           break;\n",
    "\n",
    "        # inclui a próxima consoante    \n",
    "    saida = saida + alfabeto[k]\n",
    "           \n"
   ]
  },
  {
   "cell_type": "markdown",
   "id": "09a108e6",
   "metadata": {},
   "source": [
    "# Saída"
   ]
  },
  {
   "cell_type": "code",
   "execution_count": 58,
   "id": "cd378090",
   "metadata": {},
   "outputs": [
    {
     "name": "stdout",
     "output_type": "stream",
     "text": [
      "arostuveiroso\n"
     ]
    }
   ],
   "source": [
    "\n",
    "# saída: imprimindo o resultado\n",
    "print(saida)"
   ]
  },
  {
   "cell_type": "code",
   "execution_count": null,
   "id": "1a56222d",
   "metadata": {},
   "outputs": [],
   "source": []
  }
 ],
 "metadata": {
  "kernelspec": {
   "display_name": "Python 3 (ipykernel)",
   "language": "python",
   "name": "python3"
  },
  "language_info": {
   "codemirror_mode": {
    "name": "ipython",
    "version": 3
   },
   "file_extension": ".py",
   "mimetype": "text/x-python",
   "name": "python",
   "nbconvert_exporter": "python",
   "pygments_lexer": "ipython3",
   "version": "3.9.7"
  }
 },
 "nbformat": 4,
 "nbformat_minor": 5
}
