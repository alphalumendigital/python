{
  "nbformat": 4,
  "nbformat_minor": 0,
  "metadata": {
    "colab": {
      "provenance": [],
      "toc_visible": true,
      "authorship_tag": "ABX9TyMKAk5SDhPzRciQkTpopDMG",
      "include_colab_link": true
    },
    "kernelspec": {
      "name": "python3",
      "display_name": "Python 3"
    },
    "language_info": {
      "name": "python"
    }
  },
  "cells": [
    {
      "cell_type": "markdown",
      "metadata": {
        "id": "view-in-github",
        "colab_type": "text"
      },
      "source": [
        "<a href=\"https://colab.research.google.com/github/alphalumendigital/python/blob/main/2021_N1_fase_1.ipynb\" target=\"_parent\"><img src=\"https://colab.research.google.com/assets/colab-badge.svg\" alt=\"Open In Colab\"/></a>"
      ]
    },
    {
      "cell_type": "markdown",
      "source": [
        "# Tempo de Resposta"
      ],
      "metadata": {
        "id": "4jlk40pI56uk"
      }
    },
    {
      "cell_type": "markdown",
      "source": [
        "Clique no link abaixo para ver a questão da OBI"
      ],
      "metadata": {
        "id": "NsaaBHhA6SjM"
      }
    },
    {
      "cell_type": "markdown",
      "source": [
        "[Questão da Fase 1 - 2021](https://olimpiada.ic.unicamp.br/pratique/p1/2021/f1/tempo/)"
      ],
      "metadata": {
        "id": "S6S_bv8I6D6R"
      }
    },
    {
      "cell_type": "code",
      "execution_count": null,
      "metadata": {
        "id": "Rbrs9AFCkfXk"
      },
      "outputs": [],
      "source": [
        "n = int( input() )  #leitura do número de eventos\n",
        "eventos = [] #zera lista\n",
        "tempos = [] #zera listas\n",
        "\n",
        "if n >= 1 and n <=20: #verifica restrição\n",
        "    for x in range(n): #leitura dos eventos (recebido, enviado ou tempo)\n",
        "        leitura = [] #zera lista\n",
        "        leitura = list(input().split()) #leitura da linha com n colunas\n",
        "        leitura[1] = int(leitura[1]) #forçando a conversão do tipo string para inteiro (amigo)\n",
        "\n",
        "        if leitura[1] >= 1 and leitura[1] <= 100: #verifica restrição\n",
        "\n",
        "            if x == 0: #se for a primeira linha então inclui o tempo 0\n",
        "                leitura.append(0)\n",
        "            elif eventos[x-1][0] != 'T' :  #se a linha anterior for diferente de T\n",
        "                if leitura[0] != 'T' : #se a linha atual for diferente de T então adiciona o tempo 1\n",
        "                    leitura.append(1)\n",
        "                else: #senão adiciona 0\n",
        "                    leitura.append(0)\n",
        "            else: #linha anterior é igual a T e adiciona o tempo passado entre os eventos\n",
        "                leitura.append( eventos[x-1][1] )\n",
        "\n",
        "            eventos.append(leitura) #adiciona o evento na lista\n",
        "\n",
        "            if leitura[0] == 'R': #se linha for R então inclui um item na lista de tempos\n",
        "                item = [leitura[1], 0, -1]  \n",
        "                if tempos.count(item) == 0:  #se o item não existir na lista de tempos então adiciona\n",
        "                    tempos.append(item)\n",
        "\n",
        "    total = len(tempos)\n",
        "    for y in range(total): #calcula o tempo entre o evento recebido e o evento enviado\n",
        "        for x in range(n):\n",
        "            item = eventos[x]\n",
        "            if eventos[x][0] == 'R' and item[1] == tempos[y][0]: #se for R e for o amigo então zera soma\n",
        "                soma = 0\n",
        "                tempos[y][2] = -1\n",
        "            if eventos[x][0] == 'R' and item[1] != tempos[y][0]: #se for R e não for o amigo então soma tempo\n",
        "                soma = soma + item[2]\n",
        "            if eventos[x][0] == 'E' and item[1] != tempos[y][0]: #se for E e não for o amigo então soma tempo\n",
        "                soma = soma + item[2]\n",
        "            if eventos[x][0] == 'E' and item[1] == tempos[y][0]: #se for E e for amigo então grava a soma\n",
        "                soma = soma + item[2]\n",
        "                tempos[y][1] = tempos[y][1] + soma #acumula as somas\n",
        "                tempos[y][2] = 0\n",
        "   \n",
        "    for x in range(total):\n",
        "      if tempos[x][2] == -1: #se não enviou a mensagem então será -1\n",
        "          tempos[x][1] = -1\n",
        "      print( tempos[x][0], tempos[x][1] ) #imprime o resultado"
      ]
    },
    {
      "cell_type": "markdown",
      "source": [
        "# Torneio de Tênis"
      ],
      "metadata": {
        "id": "PU9RNL5V6k1M"
      }
    },
    {
      "cell_type": "markdown",
      "source": [
        "[Questão da fase 1 - 2021](https://olimpiada.ic.unicamp.br/pratique/p1/2021/f1/torneio/)"
      ],
      "metadata": {
        "id": "j977quIQ6qVz"
      }
    },
    {
      "cell_type": "code",
      "source": [
        "lista = []\n",
        "for x in range(6):\n",
        "    lista.append(input())\n",
        "\n",
        "vitorias = lista.count('V')\n",
        "\n",
        "if(vitorias >= 1 and vitorias <= 2):\n",
        "    print(3)\n",
        "elif(vitorias >= 3 and vitorias <= 4):\n",
        "    print(2)\n",
        "elif(vitorias >= 5 and vitorias <= 6):\n",
        "    print(1)\n",
        "else:\n",
        "    print(-1)\n"
      ],
      "metadata": {
        "id": "b9BCJS5Y6xsX"
      },
      "execution_count": null,
      "outputs": []
    },
    {
      "cell_type": "markdown",
      "source": [
        "# Zero para Cancelar"
      ],
      "metadata": {
        "id": "er4N0liz7Itl"
      }
    },
    {
      "cell_type": "markdown",
      "source": [
        "[Questão da fase 1 - 2021](https://olimpiada.ic.unicamp.br/pratique/p1/2021/f1/zero/)"
      ],
      "metadata": {
        "id": "zeDB3_lZ7NK0"
      }
    },
    {
      "cell_type": "code",
      "source": [
        "n = int(input())\n",
        "lista=[]\n",
        "if n >= 1 and n <= 100000:\n",
        "    for x in range(n):\n",
        "        y = int(input())\n",
        "        if y >= 0 and y <= 100:\n",
        "            if y > 0:\n",
        "                lista.append(y)\n",
        "            else:\n",
        "                lista.pop()\n",
        "    soma = sum(lista)\n",
        "    if soma >= 0 and soma <= 1000000:\n",
        "        print(soma)"
      ],
      "metadata": {
        "id": "i11v1TUw7WA4"
      },
      "execution_count": null,
      "outputs": []
    }
  ]
}