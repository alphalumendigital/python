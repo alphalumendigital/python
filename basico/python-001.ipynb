{
 "cells": [
  {
   "cell_type": "markdown",
   "metadata": {
    "colab_type": "text",
    "id": "view-in-github"
   },
   "source": [
    "<a href=\"https://colab.research.google.com/github/fulvio-f/aerospace-course/blob/main/tutorial/Workshop_S%C3%A1bado_Aeroespacial.ipynb\" target=\"_parent\"><img src=\"https://colab.research.google.com/assets/colab-badge.svg\" alt=\"Open In Colab\"/></a>"
   ]
  },
  {
   "cell_type": "markdown",
   "metadata": {
    "id": "Xqe7V-HZ_K2N"
   },
   "source": [
    "# Hello, Workshop Básico de Python!"
   ]
  },
  {
   "cell_type": "code",
   "execution_count": null,
   "metadata": {
    "id": "zY2NneM6_Yez"
   },
   "outputs": [],
   "source": [
    "print(\"Hello, Workshop Básico de Python!\")"
   ]
  },
  {
   "cell_type": "markdown",
   "metadata": {},
   "source": [
    "# História do Python"
   ]
  },
  {
   "cell_type": "markdown",
   "metadata": {},
   "source": [
    "https://pt.wikipedia.org/wiki/Python"
   ]
  },
  {
   "cell_type": "markdown",
   "metadata": {
    "id": "KsvcgaZoP3Z0"
   },
   "source": [
    "# **Básico de Python**"
   ]
  },
  {
   "cell_type": "markdown",
   "metadata": {
    "id": "W1GA3FXF_u9l"
   },
   "source": [
    "## Variável:"
   ]
  },
  {
   "cell_type": "markdown",
   "metadata": {},
   "source": [
    "Variável é um local de memória reservado que se utiliza para guardar alguma informação (um valor). \n",
    "Exemplo: armazenar o nome do cliente, hora, quantidade em estoque, etc.\n",
    "\n",
    "Evitar o uso dos caracteres 'l' (L minúsculo), 'O' (o maiúsculo) ou 'I' (i maiúsculo) sozinhos como nomes de variáveis. \n",
    "Em algumas fontes, esses caracteres são indistinguíveis dos números um e zero. Quando tentado a usar somente 'l', use 'L'."
   ]
  },
  {
   "cell_type": "code",
   "execution_count": null,
   "metadata": {
    "id": "66z5vuoQ_1Cs"
   },
   "outputs": [],
   "source": [
    "# variáveis no Python começam com letras e não precisam de definição de tipo\n",
    "a = 2\n",
    "b = 7\n",
    "c = 3\n",
    "\n",
    "# print é usado para saída de dados, visualizar um valor\n",
    "print(\"Valor de a: \", a)\n",
    "print(\"Valor de b: \", b)\n",
    "print(\"Valor de c: \", c)\n"
   ]
  },
  {
   "cell_type": "markdown",
   "metadata": {
    "id": "W1GA3FXF_u9l"
   },
   "source": [
    "## Operações Aritméticas:"
   ]
  },
  {
   "cell_type": "code",
   "execution_count": null,
   "metadata": {
    "id": "66z5vuoQ_1Cs"
   },
   "outputs": [],
   "source": [
    "# Operações\n",
    "a = 5 + 2   # Adição\n",
    "b = 7 - 3   # Subtração\n",
    "c = 3 * 2   # Multiplicação\n",
    "d = 10 / 5  # Divisão\n",
    "e = 2 ** 3  # Potenciação\n",
    "\n",
    "\n",
    "# print é usado para saída de dados, visualizar um valor\n",
    "\n",
    "print(\"Adição: a = {}\".format(a))\n",
    "print(\"Subtração: b = {}\".format(b))\n",
    "print(\"Multiplicação: c = {}\".format(c))\n",
    "print(\"Divisão: d = {}\".format(d))\n",
    "print(\"Potenciação: e = {}\".format(e))"
   ]
  },
  {
   "cell_type": "markdown",
   "metadata": {
    "id": "s5Bj-MZcB971"
   },
   "source": [
    "## Tipos de Dados:"
   ]
  },
  {
   "cell_type": "code",
   "execution_count": null,
   "metadata": {
    "id": "b8iOmYKtCC1u"
   },
   "outputs": [],
   "source": [
    "idade = 23                # int (Inteiro)\n",
    "altura = 1.73             # float (Fracionário)\n",
    "nome = \"Guido van Rossum\" # str (String: \"Texto\")\n",
    "lampada_acesa = True      # bool (Booleano: \"Verdadeiro\" ou \"Falso\")\n",
    "\n",
    "print(type(idade))        # Função utilizada para verificar o tipo do dado"
   ]
  },
  {
   "cell_type": "markdown",
   "metadata": {
    "id": "QVBCsUbRYaSt"
   },
   "source": [
    "## Conversão de Tipos:"
   ]
  },
  {
   "cell_type": "code",
   "execution_count": null,
   "metadata": {
    "id": "8EnA9rxVYcsK"
   },
   "outputs": [],
   "source": [
    "int_nota = 8  # Nota (Inteiro)\n",
    "float_nota = float(int_nota) # Nota (Fracionário)\n",
    "string_nota = str(int_nota)  # Nota (String: \"Texto\")\n",
    "\n",
    "print(type(int_nota))\n",
    "print(type(float_nota))\n",
    "print(type(string_nota))"
   ]
  },
  {
   "cell_type": "code",
   "execution_count": null,
   "metadata": {
    "id": "uB32z3RPZQFt"
   },
   "outputs": [],
   "source": [
    "# ERRADO: Forma de concatenar (\"juntar\") texto (str) e número (int ou float)\n",
    "\n",
    "print(\"A nota do aluno é \" + int_nota) # A execução retorna um ERRO, pois o interpretador não entende que você quer juntar dois textos"
   ]
  },
  {
   "cell_type": "code",
   "execution_count": null,
   "metadata": {
    "id": "af6E4vrwZQ3d"
   },
   "outputs": [],
   "source": [
    "# CORRETA: Forma de concatenar (\"juntar\") texto (str) e número (int ou float)\n",
    "\n",
    "print(\"A nota do aluno é \" + string_nota)"
   ]
  },
  {
   "cell_type": "markdown",
   "metadata": {
    "id": "XCqEm6Efjffl"
   },
   "source": [
    "## input simples (Entrada de Dados)"
   ]
  },
  {
   "cell_type": "code",
   "execution_count": null,
   "metadata": {
    "id": "MyIO3a64jhaJ"
   },
   "outputs": [],
   "source": [
    "# Lendo um valor \n",
    "a = input()\n",
    "\n",
    "print(a)\n",
    "\n",
    "# Lendo um valor inteiro\n",
    "b = int( input() )\n",
    "\n",
    "print(b)\n"
   ]
  },
  {
   "cell_type": "markdown",
   "metadata": {
    "id": "XCqEm6Efjffl"
   },
   "source": [
    "## input complexos (Entrada de Dados)"
   ]
  },
  {
   "cell_type": "code",
   "execution_count": null,
   "metadata": {},
   "outputs": [],
   "source": [
    "# Lendo uma linha com dois valores inteiros\n",
    "x, y = map(int, input().split())\n",
    "\n",
    "print(x)\n",
    "print(y)\n",
    "\n",
    "# Lendo uma linha com diversos valores inteiros\n",
    "numeros = list(map(int, input().split()))\n",
    "\n",
    "print(numeros)"
   ]
  },
  {
   "cell_type": "markdown",
   "metadata": {
    "id": "aLTTzxA3BfiV"
   },
   "source": [
    "## Operações Lógicas:"
   ]
  },
  {
   "cell_type": "code",
   "execution_count": null,
   "metadata": {
    "id": "oFDoB5c5BmZD"
   },
   "outputs": [],
   "source": [
    "# Operação Lógica E (AND):\n",
    "botao_pressionado = True\n",
    "tampa_fechada = False\n",
    "microondas_ligado = tampa_fechada and botao_pressionado # Se a tampa do microondas estiver fechada E o botão for pressionado => o microondas está ligado\n",
    "\n",
    "# Operação Lógica OU (OR):\n",
    "faltas = False\n",
    "nota_vermelha = True\n",
    "aluno_reprovado = faltas or nota_vermelha # Se o aluno não obteve frequência mínima OU tirou nota vermelha => o aluno é reprovado\n",
    "\n",
    "# Operação Lógica OU (OR):\n",
    "lampada_apagada  = False\n",
    "lampada_acesa = not lampada_apagada # Se a lâmpada não está acesa => a lâmpada está acesa\n",
    "\n",
    "print(\"Microondas está ligado: {}\".format(microondas_ligado))\n",
    "print(\"Aluno foi reprovado: {}\".format(aluno_reprovado))\n",
    "print(\"Lâmpada acesa: {}\".format(lampada_acesa))"
   ]
  },
  {
   "cell_type": "markdown",
   "metadata": {
    "id": "U4vdRT8eNbsd"
   },
   "source": [
    "## Estruturas Condicionais:"
   ]
  },
  {
   "cell_type": "code",
   "execution_count": null,
   "metadata": {
    "id": "yEKcZkM3NkDF"
   },
   "outputs": [],
   "source": [
    "# Estrutura SE (IF), SENÃO SE (ELIF) e SENÃO (ELSE):\n",
    "\n",
    "nota = 8.5  # Nota do aluno (float)\n",
    "\n",
    "if (nota >= 5.0):\n",
    "  print(\"O aluno está aprovado! :)\")\n",
    "elif (nota >= 3.0):\n",
    "  print(\"O aluno está de recuperação.\")\n",
    "else:\n",
    "  print(\"O aluno está reprovado. :(\")"
   ]
  },
  {
   "cell_type": "markdown",
   "metadata": {
    "id": "aD25X2xvVEJm"
   },
   "source": [
    "## Listas e Dicionários:"
   ]
  },
  {
   "cell_type": "code",
   "execution_count": null,
   "metadata": {
    "id": "ESHYDkS_VJ99"
   },
   "outputs": [],
   "source": [
    "# LISTAS (LIST)\n",
    "astronautas = [\"Neil Armstrong\", \"Buzz Lightyear\", \"Yuri Gagarin\"] # Lista de strings (list)\n",
    "\n",
    "print(len(astronautas)) # Número de items na lista\n",
    "print(astronautas[0])   # Primeiro item da lista (Índices começam no 0)\n",
    "print(astronautas[1])   # Segundo item da lista \n",
    "print(astronautas[2])   # Terceiro item da lista "
   ]
  },
  {
   "cell_type": "code",
   "execution_count": null,
   "metadata": {
    "id": "fg_srn9YWRQ9"
   },
   "outputs": [],
   "source": [
    "# DICIONÁRIOS (DICT)\n",
    "\n",
    "notas = {\"João\": 9.5, \"Maria\": 10.0, \"Carol\": 8.0 ,\"José\": 7.5} # Dicionário com chaves de string e valores  (dict)\n",
    "\n",
    "print(notas[\"João\"])  # Acessa a nota do João\n",
    "print(notas[\"Carol\"]) # Acessa a nota da Carol\n",
    "print(notas[\"Maria\"]) # Acessa a nota da Maria\n",
    "print(notas[\"José\"])  # Acessa a nota do José"
   ]
  },
  {
   "cell_type": "markdown",
   "metadata": {
    "id": "CE5oXT5rPs0F"
   },
   "source": [
    "## Estruturas de Repetição:"
   ]
  },
  {
   "cell_type": "code",
   "execution_count": null,
   "metadata": {
    "id": "c_2zMNBRPvp-"
   },
   "outputs": [],
   "source": [
    "# FOR LOOPS:\n",
    "\n",
    "notas = [9.5, 10.0, 8.0, 7.5] # Lista das notas dos alunos (list)\n",
    "soma = 0.0  # Soma das notas dos alunos (float)\n",
    "media = 0.0 # Média das notas dos alunos (float)\n",
    "\n",
    "for nota in notas:\n",
    "  soma = soma + nota\n",
    "media = soma/len(notas)\n",
    "\n",
    "print(\"A soma das notas dos alunos é: {}\".format(soma))\n",
    "print(\"A média dos alunos é: {}\".format(media))"
   ]
  },
  {
   "cell_type": "code",
   "execution_count": null,
   "metadata": {
    "id": "nx2uqz3pjAD9"
   },
   "outputs": [],
   "source": [
    "# WHILE LOOPS:\n",
    "\n",
    "volume_garrafa = 0 # A garrafa está vazia (int)\n",
    "\n",
    "# Enquanto a garrafa estiver com volume menor que 100, o volume da garrafa será acrescido em 5 unidades\n",
    "while (volume_garrafa < 100):\n",
    "  print(\"Enchendo garrafa...\")\n",
    "  volume_garrafa += 5\n",
    "\n",
    "print(\"\\n Volume final da garrafa: {}\".format(volume_garrafa))"
   ]
  },
  {
   "cell_type": "markdown",
   "metadata": {
    "id": "NMcYglNePwRm"
   },
   "source": [
    "## Funções:"
   ]
  },
  {
   "cell_type": "code",
   "execution_count": null,
   "metadata": {
    "id": "_3DvXtZBPzNj"
   },
   "outputs": [],
   "source": [
    "# Função para somar dois números\n",
    "def soma(a, b):\n",
    "  soma = a + b\n",
    "  return soma\n",
    "\n",
    "c = 5 + 2     # Somando dois inteiros pela operação\n",
    "d = soma(5,2) # Somando dois inteiros pela função soma()\n",
    "\n",
    "print(\"c: {}\".format(c))\n",
    "print(\"d: {}\".format(d))\n",
    "print(\"D é igual a C: {}\".format(c == d))"
   ]
  },
  {
   "cell_type": "code",
   "execution_count": null,
   "metadata": {
    "id": "4A1hibqUg0_1"
   },
   "outputs": [],
   "source": [
    "# Função para calcular a média dos alunos\n",
    "def media(notas):\n",
    "  soma = 0\n",
    "  for nota in notas:\n",
    "    soma += nota\n",
    "  media = soma/len(notas)\n",
    "  return media\n",
    "\n",
    "notas_turma_A = [9.5, 10.0, 8.0, 7.5]\n",
    "notas_turma_B = [7.5, 8.0, 6.0, 7.5, 9.0]\n",
    "\n",
    "media_turma_A = media(notas_turma_A)  # Média da turma A calculada pela função media()\n",
    "media_turma_B = media(notas_turma_B)  # Média da turma B calculada pela função media()\n",
    "\n",
    "print(\"A média da turma A é {}\".format(media_turma_A))\n",
    "print(\"A média da turma B é {}\".format(media_turma_B))"
   ]
  }
 ],
 "metadata": {
  "colab": {
   "authorship_tag": "ABX9TyPiHRHkNi74I/iBEzo+hfGt",
   "collapsed_sections": [],
   "include_colab_link": true,
   "provenance": []
  },
  "kernelspec": {
   "display_name": "Python 3 (ipykernel)",
   "language": "python",
   "name": "python3"
  },
  "language_info": {
   "codemirror_mode": {
    "name": "ipython",
    "version": 3
   },
   "file_extension": ".py",
   "mimetype": "text/x-python",
   "name": "python",
   "nbconvert_exporter": "python",
   "pygments_lexer": "ipython3",
   "version": "3.9.7"
  }
 },
 "nbformat": 4,
 "nbformat_minor": 1
}
